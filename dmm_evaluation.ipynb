{
 "cells": [
  {
   "cell_type": "markdown",
   "id": "6bc1011a",
   "metadata": {},
   "source": [
    "The purpose of this file is to calculate monthly weighted DMM score."
   ]
  },
  {
   "cell_type": "code",
   "execution_count": 1,
   "id": "0e29476c",
   "metadata": {},
   "outputs": [],
   "source": [
    "import pandas as pd"
   ]
  },
  {
   "cell_type": "code",
   "execution_count": 4,
   "id": "f3b66bf0",
   "metadata": {},
   "outputs": [],
   "source": [
    "commit_data = 'commit_data_average.csv'\n",
    "export_csv_name = 'test.csv'"
   ]
  },
  {
   "cell_type": "code",
   "execution_count": 5,
   "id": "76b563d4",
   "metadata": {},
   "outputs": [],
   "source": [
    "df = pd.read_csv(\n",
    "    commit_data,\n",
    "    parse_dates=['commit_date']\n",
    ")\n",
    "\n",
    "dmm_cols = ['dmm_unit_size', 'dmm_unit_complexity', 'dmm_unit_interfacing']\n",
    "df['dmm'] = df[dmm_cols].mean(axis=1)\n",
    "\n",
    "df['month'] = df['commit_date'].dt.to_period('M').dt.to_timestamp()\n",
    "\n",
    "churn_df = (\n",
    "    df\n",
    "    .groupby(['url','month'])['churn']\n",
    "    .sum()\n",
    "    .reset_index(name='churn_sum')\n",
    ")\n",
    "\n",
    "weighted_df = (\n",
    "    df\n",
    "    .assign(weighted_dmm=df['dmm'] * df['churn'])\n",
    "    .groupby(['url','month'])['weighted_dmm']\n",
    "    .sum()\n",
    "    .reset_index(name='weighted_dmm_sum')\n",
    ")\n",
    "\n",
    "monthly = pd.merge(churn_df, weighted_df, on=['url','month'])\n",
    "monthly = monthly.sort_values(['url','month'])\n",
    "\n",
    "monthly['dmm_monthly_w']    = monthly['weighted_dmm_sum'] / monthly['churn_sum']\n",
    "monthly['cum_churn']        = monthly.groupby('url')['churn_sum'].cumsum()\n",
    "monthly['cum_weighted_dmm'] = monthly.groupby('url')['weighted_dmm_sum'].cumsum()\n",
    "monthly['dmm_cumulative_w'] = monthly['cum_weighted_dmm'] / monthly['cum_churn']\n",
    "\n",
    "monthly.to_csv(export_csv_name, index=False)"
   ]
  }
 ],
 "metadata": {
  "kernelspec": {
   "display_name": ".venv",
   "language": "python",
   "name": "python3"
  },
  "language_info": {
   "codemirror_mode": {
    "name": "ipython",
    "version": 3
   },
   "file_extension": ".py",
   "mimetype": "text/x-python",
   "name": "python",
   "nbconvert_exporter": "python",
   "pygments_lexer": "ipython3",
   "version": "3.9.6"
  }
 },
 "nbformat": 4,
 "nbformat_minor": 5
}
