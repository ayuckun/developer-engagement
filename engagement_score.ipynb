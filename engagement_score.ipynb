{
 "cells": [
  {
   "cell_type": "code",
   "execution_count": 1,
   "id": "2f25e873",
   "metadata": {},
   "outputs": [
    {
     "name": "stderr",
     "output_type": "stream",
     "text": [
      "Matplotlib is building the font cache; this may take a moment.\n"
     ]
    }
   ],
   "source": [
    "import pandas as pd\n",
    "import seaborn as sns\n",
    "from sklearn.preprocessing import MinMaxScaler, RobustScaler\n",
    "from sklearn.decomposition import PCA"
   ]
  },
  {
   "cell_type": "code",
   "execution_count": 2,
   "id": "375c0919",
   "metadata": {},
   "outputs": [],
   "source": [
    "commit_data = 'commit_data_average.csv'\n",
    "export_csv_name = 'test.csv'"
   ]
  },
  {
   "cell_type": "code",
   "execution_count": 3,
   "id": "d226e534",
   "metadata": {},
   "outputs": [
    {
     "name": "stdout",
     "output_type": "stream",
     "text": [
      "PCA feature weights (component 1):\n",
      "  churn_sum      :  0.4571\n",
      "  commit_count   :  0.5172\n",
      "  dev_count      :  0.5771\n",
      "  churn_per_dev  :  0.4078\n",
      "  commit_rate    : -0.1556\n"
     ]
    },
    {
     "name": "stderr",
     "output_type": "stream",
     "text": [
      "/var/folders/lc/mz23qv511mqd7vdv9_k47c8h0000gn/T/ipykernel_4587/1004917453.py:31: FutureWarning: DataFrameGroupBy.apply operated on the grouping columns. This behavior is deprecated, and in a future version of pandas the grouping columns will be excluded from the operation. Either pass `include_groups=False` to exclude the groupings or explicitly select the grouping columns after groupby to silence this warning.\n",
      "  agg = agg.groupby('url', group_keys=False).apply(lambda g: g.assign(**{\n",
      "/Users/yasir/Documents/VU/SIG/.venv/lib/python3.9/site-packages/sklearn/decomposition/_base.py:148: RuntimeWarning: divide by zero encountered in matmul\n",
      "  X_transformed = X @ self.components_.T\n",
      "/Users/yasir/Documents/VU/SIG/.venv/lib/python3.9/site-packages/sklearn/decomposition/_base.py:148: RuntimeWarning: overflow encountered in matmul\n",
      "  X_transformed = X @ self.components_.T\n",
      "/Users/yasir/Documents/VU/SIG/.venv/lib/python3.9/site-packages/sklearn/decomposition/_base.py:148: RuntimeWarning: invalid value encountered in matmul\n",
      "  X_transformed = X @ self.components_.T\n"
     ]
    }
   ],
   "source": [
    "df = pd.read_csv(commit_data, parse_dates=['commit_date'])\n",
    "df = df.sort_values(['url','developer','commit_date'])\n",
    "\n",
    "df['time_since_last_h'] = (\n",
    "    df.groupby(['url','developer'])['commit_date']\n",
    "      .diff().dt.total_seconds() / 3600\n",
    ").fillna(0)\n",
    "\n",
    "df['month'] = df['commit_date'].dt.to_period('M').dt.to_timestamp()\n",
    "\n",
    "agg = (\n",
    "    df.groupby(['url','month'])\n",
    "      .agg(\n",
    "          churn_sum       = ('churn',       'sum'),\n",
    "          commit_count    = ('commit_date', 'count'),\n",
    "          dev_count       = ('developer',   'nunique'),\n",
    "          sum_interval_h  = ('time_since_last_h', 'sum')\n",
    "      )\n",
    "      .reset_index()\n",
    ")\n",
    "\n",
    "agg['churn_per_dev']  = agg['churn_sum'] / agg['dev_count']\n",
    "agg['commit_rate']    = agg['commit_count'] / (agg['sum_interval_h'] + 1e-6)\n",
    "\n",
    "features = ['churn_sum','commit_count','dev_count','churn_per_dev','commit_rate']\n",
    "rscaler = RobustScaler()\n",
    "X_robust = rscaler.fit_transform(agg[features])\n",
    "agg[features] = X_robust\n",
    "\n",
    "mm = MinMaxScaler()\n",
    "agg = agg.groupby('url', group_keys=False).apply(lambda g: g.assign(**{\n",
    "    feat: mm.fit_transform(g[[feat]]).flatten()\n",
    "    for feat in features\n",
    "}))\n",
    "\n",
    "pca = PCA(n_components=1)\n",
    "agg['eng_raw'] = pca.fit_transform(agg[features])\n",
    "\n",
    "print(\"PCA feature weights (component 1):\")\n",
    "for feat, weight in zip(features, pca.components_[0]):\n",
    "    print(f\"  {feat:15s}: {weight: .4f}\")\n",
    "\n",
    "agg['engagement_score'] = agg.groupby('url')['eng_raw'] \\\n",
    "                             .transform(lambda x: (x - x.min())/(x.max()-x.min()))\n",
    "\n",
    "agg.to_csv(export_csv_name, index=False)\n"
   ]
  }
 ],
 "metadata": {
  "kernelspec": {
   "display_name": ".venv",
   "language": "python",
   "name": "python3"
  },
  "language_info": {
   "codemirror_mode": {
    "name": "ipython",
    "version": 3
   },
   "file_extension": ".py",
   "mimetype": "text/x-python",
   "name": "python",
   "nbconvert_exporter": "python",
   "pygments_lexer": "ipython3",
   "version": "3.9.6"
  }
 },
 "nbformat": 4,
 "nbformat_minor": 5
}
